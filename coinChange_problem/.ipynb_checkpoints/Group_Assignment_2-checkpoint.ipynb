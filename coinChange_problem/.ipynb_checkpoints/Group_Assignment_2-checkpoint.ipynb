{
 "cells": [
  {
   "cell_type": "markdown",
   "metadata": {},
   "source": [
    "<h3>To run cells, click into one and press <i>Run</i> up on the bar</h3>\n",
    "<h4>A shortcut is Shift+Enter to run a cell/box</h4>\n",
    "<h4>The Python interpreter will keep things in memory from cell to cell</h4>\n",
    "<h4>The <i>Kernel</i> section is useful if you need to interrupt or restart for any reason</h4>"
   ]
  },
  {
   "cell_type": "code",
   "execution_count": 9,
   "metadata": {},
   "outputs": [
    {
     "name": "stdout",
     "output_type": "stream",
     "text": [
      "Requirement already up-to-date: pip in /Users/aashwinvats/anaconda3/lib/python3.6/site-packages (19.1.1)\n",
      "Requirement already satisfied: numpy in /Users/aashwinvats/anaconda3/lib/python3.6/site-packages (1.14.3)\n",
      "Requirement already satisfied: matplotlib in /Users/aashwinvats/anaconda3/lib/python3.6/site-packages (2.2.2)\n",
      "Requirement already satisfied: numpy>=1.7.1 in /Users/aashwinvats/anaconda3/lib/python3.6/site-packages (from matplotlib) (1.14.3)\n",
      "Requirement already satisfied: cycler>=0.10 in /Users/aashwinvats/anaconda3/lib/python3.6/site-packages (from matplotlib) (0.10.0)\n",
      "Requirement already satisfied: pyparsing!=2.0.4,!=2.1.2,!=2.1.6,>=2.0.1 in /Users/aashwinvats/anaconda3/lib/python3.6/site-packages (from matplotlib) (2.2.0)\n",
      "Requirement already satisfied: python-dateutil>=2.1 in /Users/aashwinvats/anaconda3/lib/python3.6/site-packages (from matplotlib) (2.7.3)\n",
      "Requirement already satisfied: pytz in /Users/aashwinvats/anaconda3/lib/python3.6/site-packages (from matplotlib) (2018.4)\n",
      "Requirement already satisfied: six>=1.10 in /Users/aashwinvats/anaconda3/lib/python3.6/site-packages (from matplotlib) (1.11.0)\n",
      "Requirement already satisfied: kiwisolver>=1.0.1 in /Users/aashwinvats/anaconda3/lib/python3.6/site-packages (from matplotlib) (1.0.1)\n",
      "Requirement already satisfied: setuptools in /Users/aashwinvats/anaconda3/lib/python3.6/site-packages (from kiwisolver>=1.0.1->matplotlib) (39.1.0)\n"
     ]
    }
   ],
   "source": [
    "# run this box if you don't already have these installed\n",
    "#    or run these in command line\n",
    "\n",
    "# you can also use command line to install these with 'conda install numpy' (for example) \n",
    "#    if using Anaconda\n",
    "!pip install --upgrade pip\n",
    "!pip install numpy\n",
    "!pip install matplotlib"
   ]
  },
  {
   "cell_type": "code",
   "execution_count": 10,
   "metadata": {},
   "outputs": [],
   "source": [
    "import numpy as np\n",
    "import matplotlib.pyplot as plt\n",
    "import sys\n",
    "import time"
   ]
  },
  {
   "cell_type": "markdown",
   "metadata": {},
   "source": [
    "<h3>Implement the algorithms as described</h3>\n",
    "<h4>You need to do the ### YOUR CODE HERE ### sections</h4>"
   ]
  },
  {
   "cell_type": "code",
   "execution_count": 11,
   "metadata": {},
   "outputs": [],
   "source": [
    "# Use Greedy to find the minimum number of coins\n",
    "\n",
    "# this changes coin counts into the actual coins\n",
    "def get_result_greedy(coin_counts, coins):\n",
    "    coins_used = []\n",
    "    for i in range(len(coin_counts)):\n",
    "        for j in range(coin_counts[i]):\n",
    "            coins_used.append(coins[i])\n",
    "    return coins_used\n",
    "\n",
    "# Greedy implementation\n",
    "def change_greedy(coins, value):\n",
    "    n = len(coins)\n",
    "    \n",
    "    # coin_counts is the counts of coins you are using\n",
    "    # coin_counts[i] = count(coin[i])\n",
    "    coin_counts = [0]*len(coins)\n",
    "    \n",
    "    # Implement the greedy version as described in pdf\n",
    "    # Remember to add to coin_counts[i] for coins[i], when appropriate\n",
    "    \n",
    "    ######################\n",
    "    ### YOUR CODE HERE ###\n",
    "    ######################\n",
    "\n",
    "    while (n>=0) :\n",
    "        #print(n)\n",
    "        while(value>=coins[n-1]):\n",
    "            value -= coins[n-1]\n",
    "            \n",
    "            #print(\"Coins:\", coins[n-1])\n",
    "            coin_counts[n-1] += 1\n",
    "            #print(\"Count:\", coin_counts[n-1])\n",
    "        \n",
    "        n -= 1\n",
    "    # print(coin_counts)\n",
    "    # return the counts\n",
    "    # will be converted in get_result_greedy()\n",
    "    return coin_counts"
   ]
  },
  {
   "cell_type": "code",
   "execution_count": 12,
   "metadata": {},
   "outputs": [
    {
     "name": "stdout",
     "output_type": "stream",
     "text": [
      "Value: 40, Number of coins: 7, Coins used: [1, 1, 1, 1, 1, 10, 25]\n"
     ]
    }
   ],
   "source": [
    "# Test your greedy implementation\n",
    "# It should pass assert statements\n",
    "\n",
    "def test_greedy():\n",
    "    coins = [1, 10, 25, 50] \n",
    "    value = 40\n",
    "    coin_counts = change_greedy(coins, value)\n",
    "    num_coins = sum(coin_counts)\n",
    "    coins_used = get_result_greedy(coin_counts, coins)\n",
    "    assert num_coins == 7, 'Wrong number of coins'\n",
    "    assert coins_used == [1, 1, 1, 1, 1, 10, 25], 'Wrong coins used'\n",
    "    assert sum(coins_used) == value, 'Incorrect change value'\n",
    "    print('Value: {}, Number of coins: {}, Coins used: {}'.format(value, num_coins, coins_used))\n",
    "test_greedy()"
   ]
  },
  {
   "cell_type": "code",
   "execution_count": 4,
   "metadata": {},
   "outputs": [],
   "source": [
    "# Use Dynamic Programming to find the minimum number of coins\n",
    "\n",
    "# ans is the coins you are using, returned by change_dp()\n",
    "def get_result_dp(ans, value):\n",
    "    count = value\n",
    "    coins_used = []\n",
    "    while count > 0:\n",
    "        coins_used.append(ans[count])\n",
    "        count = count - ans[count]\n",
    "    return coins_used\n",
    "    \n",
    "\n",
    "# dynamic programming implementation\n",
    "def change_dp(coins, value): \n",
    "    \n",
    "    n = len(coins)\n",
    "    \n",
    "    # table[i] will be storing the minimum \n",
    "    #   number of coins required for value i \n",
    "    table = [0 for i in range(value + 1)]\n",
    "\n",
    "    # ans[i] will be the coins array index of first coin\n",
    "    #   you make change with at value i\n",
    "    # we fill with -1 for non-existent values\n",
    "    ans = [-1 for i in range(value + 1)]\n",
    "\n",
    "    # Base case (If given value is 0)\n",
    "    # Can't make change for 0 \n",
    "    table[0] = 0\n",
    "    # Initialize all table values as infinite\n",
    "    for i in range(1, value + 1): \n",
    "        table[i] = sys.maxsize \n",
    "#     print(table)\n",
    "\n",
    "    # Compute minimum coins required \n",
    "    # for all values i from 1 to value\n",
    "    # Be sure to store the first coin you use at each i value\n",
    "\n",
    "    ######################\n",
    "    ### YOUR CODE HERE ###\n",
    "    ###################### \n",
    "    for i in range(1, value + 1): \n",
    "          \n",
    "        # Go through all coins smaller than i \n",
    "        for j in range(len(coins)): \n",
    "            if (coins[j] <= i): \n",
    "#                 print(\"value of j, i:\",j, i)\n",
    "#                 print(\"value of table:\",table[i - coins[j]])\n",
    "                sub_res = table[i - coins[j]] \n",
    "#                 print(\"sub_res:\", sub_res)\n",
    "#                 print(\"value of table[i]:\",table[i])\n",
    "                if (sub_res != sys.maxsize and \n",
    "                    sub_res + 1 < table[i]): \n",
    "                    table[i] = sub_res + 1\n",
    "                    ans[i] = coins[j]\n",
    "#                     print(\"ans[i]:________________________\",ans[i])\n",
    "#     print(\"ans\", ans)\n",
    "    # return minimum coins and the coins we used\n",
    "    return table[value], ans"
   ]
  },
  {
   "cell_type": "code",
   "execution_count": 5,
   "metadata": {},
   "outputs": [
    {
     "name": "stdout",
     "output_type": "stream",
     "text": [
      "Value: 40, Number of coins: 4, Coins used: [10, 10, 10, 10]\n"
     ]
    }
   ],
   "source": [
    "# Test your DP implementation\n",
    "# It should pass assert statements\n",
    "def test_dp():\n",
    "    coins = [1, 10, 25, 50]  \n",
    "    value = 40\n",
    "    \n",
    "    num_coins, ans = change_dp(coins, value)\n",
    "    coin_usage = get_result_dp(ans, value)\n",
    "    \n",
    "    assert num_coins == 4, 'Wrong number of coins'\n",
    "    assert coin_usage == [10, 10, 10, 10], 'Wrong coin types'\n",
    "    assert sum(coin_usage) == value, 'Incorrect change value'\n",
    "    \n",
    "    print('Value: {}, Number of coins: {}, Coins used: {}'.format(value, len(coin_usage), coin_usage)) \n",
    "\n",
    "test_dp()"
   ]
  },
  {
   "cell_type": "markdown",
   "metadata": {},
   "source": [
    "<h3>Part 5 code for plots</h3>\n",
    "<h4>You need to do the analysis in the report and explain what this represents</h4>"
   ]
  },
  {
   "cell_type": "code",
   "execution_count": 6,
   "metadata": {},
   "outputs": [
    {
     "data": {
      "image/png": "[encoded data removed]",
      "text/plain": [
       "<Figure size 432x288 with 1 Axes>"
      ]
     },
     "metadata": {},
     "output_type": "display_data"
    }
   ],
   "source": [
    "# part 5 plotting\n",
    "# this should automatically work if your function is implemented\n",
    "\n",
    "coins = [1, 10, 25, 50]\n",
    "vals = [x for x in range(2000, 2301)]\n",
    "greedy_returns = []\n",
    "dp_returns = []\n",
    "\n",
    "for val in vals:\n",
    "    greedy_returns.append(len(get_result_greedy(change_greedy(coins, val), coins)))\n",
    "    num_coins, ans = change_dp(coins, val)\n",
    "    dp_returns.append(num_coins)\n",
    "\n",
    "plt.plot(vals, greedy_returns, label='Greedy')\n",
    "plt.plot(vals, dp_returns, label='DP')\n",
    "plt.xlabel('Value')\n",
    "plt.ylabel('Number of Coins')\n",
    "plt.legend(loc='best')\n",
    "plt.grid()"
   ]
  },
  {
   "cell_type": "markdown",
   "metadata": {},
   "source": [
    "<h3>Part 6 code for plots</h3>\n",
    "<h3>Modifying values</h3>\n",
    "<h4>You need to do the analysis in the report and explain what this represents</h4>"
   ]
  },
  {
   "cell_type": "code",
   "execution_count": 8,
   "metadata": {},
   "outputs": [
    {
     "name": "stdout",
     "output_type": "stream",
     "text": [
      "Greedy Slope: 0.9020498736719951, DP Slope: 0.986726441223093\n"
     ]
    },
    {
     "data": {
      "image/png": "[encoded data removed]",
      "text/plain": [
       "<Figure size 432x288 with 1 Axes>"
      ]
     },
     "metadata": {},
     "output_type": "display_data"
    }
   ],
   "source": [
    "# you don't need to change anything here\n",
    "# just run the cell\n",
    "# if your implementations BOTH work\n",
    "\n",
    "# I want you to look at the plot and explain the output well\n",
    "\n",
    "coins = [1, 10, 25, 50]\n",
    "vals = [x for x in range(1000, 20500, 500)]   # varying the value we pass in\n",
    "greedy_times = []\n",
    "dp_times = []\n",
    "\n",
    "n_runs = 20\n",
    "for val in vals:\n",
    "    greedy_time = 0\n",
    "    dp_time = 0\n",
    "    for i in range(n_runs):\n",
    "        starttime = time.time()\n",
    "        coin_counts_greedy = change_greedy(coins, val)\n",
    "        endtime = time.time()\n",
    "        greedy_time += endtime-starttime\n",
    "\n",
    "        starttime = time.time()\n",
    "        num_coins, ans = change_dp(coins, val)\n",
    "        endtime = time.time()\n",
    "        dp_time += endtime-starttime\n",
    "    greedy_times.append(greedy_time/n_runs)\n",
    "    dp_times.append(dp_time/n_runs)\n",
    "\n",
    "plt.plot(np.log(vals), np.log(greedy_times), label='greedy')\n",
    "plt.plot(np.log(vals), np.log(dp_times), label='dp')\n",
    "plt.grid()\n",
    "plt.legend(loc='best')\n",
    "\n",
    "slope_g, intercept_g = np.polyfit(np.log(vals), np.log(greedy_times), 1)\n",
    "slope_d, intercept_d = np.polyfit(np.log(vals), np.log(dp_times), 1)\n",
    "\n",
    "print('Greedy Slope: {}, DP Slope: {}'.format(slope_g, slope_d))"
   ]
  },
  {
   "cell_type": "markdown",
   "metadata": {},
   "source": [
    "<h3>Modifying number of coins</h3>\n",
    "<h4>You need to do the analysis in the report and explain what this represents</h4>"
   ]
  },
  {
   "cell_type": "code",
   "execution_count": 7,
   "metadata": {},
   "outputs": [
    {
     "ename": "IndexError",
     "evalue": "index -1 is out of bounds for axis 0 with size 0",
     "output_type": "error",
     "traceback": [
      "\u001b[0;31m---------------------------------------------------------------------------\u001b[0m",
      "\u001b[0;31mIndexError\u001b[0m                                Traceback (most recent call last)",
      "\u001b[0;32m<ipython-input-7-892d481b1542>\u001b[0m in \u001b[0;36m<module>\u001b[0;34m()\u001b[0m\n\u001b[1;32m     17\u001b[0m         \u001b[0;32mfor\u001b[0m \u001b[0mi\u001b[0m \u001b[0;32min\u001b[0m \u001b[0mrange\u001b[0m\u001b[0;34m(\u001b[0m\u001b[0mn_runs\u001b[0m\u001b[0;34m)\u001b[0m\u001b[0;34m:\u001b[0m\u001b[0;34m\u001b[0m\u001b[0m\n\u001b[1;32m     18\u001b[0m             \u001b[0mstarttime\u001b[0m \u001b[0;34m=\u001b[0m \u001b[0mtime\u001b[0m\u001b[0;34m.\u001b[0m\u001b[0mtime\u001b[0m\u001b[0;34m(\u001b[0m\u001b[0;34m)\u001b[0m\u001b[0;34m\u001b[0m\u001b[0m\n\u001b[0;32m---> 19\u001b[0;31m             \u001b[0mcoin_counts_greedy\u001b[0m \u001b[0;34m=\u001b[0m \u001b[0mchange_greedy\u001b[0m\u001b[0;34m(\u001b[0m\u001b[0mcoin\u001b[0m\u001b[0;34m,\u001b[0m \u001b[0mval\u001b[0m\u001b[0;34m)\u001b[0m\u001b[0;34m\u001b[0m\u001b[0m\n\u001b[0m\u001b[1;32m     20\u001b[0m             \u001b[0mendtime\u001b[0m \u001b[0;34m=\u001b[0m \u001b[0mtime\u001b[0m\u001b[0;34m.\u001b[0m\u001b[0mtime\u001b[0m\u001b[0;34m(\u001b[0m\u001b[0;34m)\u001b[0m\u001b[0;34m\u001b[0m\u001b[0m\n\u001b[1;32m     21\u001b[0m             \u001b[0mgreedy_time\u001b[0m \u001b[0;34m+=\u001b[0m \u001b[0mendtime\u001b[0m\u001b[0;34m-\u001b[0m\u001b[0mstarttime\u001b[0m\u001b[0;34m\u001b[0m\u001b[0m\n",
      "\u001b[0;32m<ipython-input-2-0ac766a89c34>\u001b[0m in \u001b[0;36mchange_greedy\u001b[0;34m(coins, value)\u001b[0m\n\u001b[1;32m     26\u001b[0m     \u001b[0;32mwhile\u001b[0m \u001b[0;34m(\u001b[0m\u001b[0mn\u001b[0m\u001b[0;34m>=\u001b[0m\u001b[0;36m0\u001b[0m\u001b[0;34m)\u001b[0m \u001b[0;34m:\u001b[0m\u001b[0;34m\u001b[0m\u001b[0m\n\u001b[1;32m     27\u001b[0m         \u001b[0;31m#print(n)\u001b[0m\u001b[0;34m\u001b[0m\u001b[0;34m\u001b[0m\u001b[0m\n\u001b[0;32m---> 28\u001b[0;31m         \u001b[0;32mwhile\u001b[0m\u001b[0;34m(\u001b[0m\u001b[0mvalue\u001b[0m\u001b[0;34m>=\u001b[0m\u001b[0mcoins\u001b[0m\u001b[0;34m[\u001b[0m\u001b[0mn\u001b[0m\u001b[0;34m-\u001b[0m\u001b[0;36m1\u001b[0m\u001b[0;34m]\u001b[0m\u001b[0;34m)\u001b[0m\u001b[0;34m:\u001b[0m\u001b[0;34m\u001b[0m\u001b[0m\n\u001b[0m\u001b[1;32m     29\u001b[0m             \u001b[0mvalue\u001b[0m \u001b[0;34m-=\u001b[0m \u001b[0mcoins\u001b[0m\u001b[0;34m[\u001b[0m\u001b[0mn\u001b[0m\u001b[0;34m-\u001b[0m\u001b[0;36m1\u001b[0m\u001b[0;34m]\u001b[0m\u001b[0;34m\u001b[0m\u001b[0m\n\u001b[1;32m     30\u001b[0m \u001b[0;34m\u001b[0m\u001b[0m\n",
      "\u001b[0;31mIndexError\u001b[0m: index -1 is out of bounds for axis 0 with size 0"
     ]
    }
   ],
   "source": [
    "# you don't need to change anything here\n",
    "# just run the cell\n",
    "# if your implementations BOTH work\n",
    "\n",
    "with np.errstate(divide='ignore'):\n",
    "    # varying the coin denominations we are using\n",
    "    # hopefully this doesn't break anything\n",
    "    coins = [np.random.choice(np.arange(0, 100), size=x, replace=False) for x in range(0, 102, 2)]\n",
    "    val = 127  # fixed value\n",
    "    greedy_times = []\n",
    "    dp_times = []\n",
    "\n",
    "    n_runs = 20\n",
    "    for coin in coins:\n",
    "        greedy_time = 0\n",
    "        dp_time = 0\n",
    "        for i in range(n_runs):\n",
    "            starttime = time.time()\n",
    "            coin_counts_greedy = change_greedy(coin, val)\n",
    "            endtime = time.time()\n",
    "            greedy_time += endtime-starttime\n",
    "\n",
    "            starttime = time.time()\n",
    "            num_coins, ans = change_dp(coin, val)\n",
    "            endtime = time.time()\n",
    "            dp_time += endtime-starttime\n",
    "        greedy_times.append(greedy_time/n_runs)\n",
    "        dp_times.append(dp_time/n_runs)\n",
    "\n",
    "    plt.plot(np.log(np.arange(1, len(coins)+1)), np.log(greedy_times), label='greedy')\n",
    "    plt.plot(np.log(np.arange(1, len(coins)+1)), np.log(dp_times), label='dp')\n",
    "    plt.grid()\n",
    "    plt.legend(loc='best')\n",
    "\n",
    "    slope_g, intercept_g = np.polyfit(np.log(np.arange(1, len(coins)+1)), np.log(greedy_times), 1)\n",
    "    slope_d, intercept_d = np.polyfit(np.log(np.arange(1, len(coins)+1)), np.log(dp_times), 1)\n",
    "\n",
    "    print('Greedy Slope: {}, DP Slope: {}'.format(slope_g, slope_d))"
   ]
  },
  {
   "cell_type": "code",
   "execution_count": null,
   "metadata": {},
   "outputs": [],
   "source": []
  }
 ],
 "metadata": {
  "kernelspec": {
   "display_name": "Python 3",
   "language": "python",
   "name": "python3"
  },
  "language_info": {
   "codemirror_mode": {
    "name": "ipython",
    "version": 3
   },
   "file_extension": ".py",
   "mimetype": "text/x-python",
   "name": "python",
   "nbconvert_exporter": "python",
   "pygments_lexer": "ipython3",
   "version": "3.6.5"
  }
 },
 "nbformat": 4,
 "nbformat_minor": 2
}
